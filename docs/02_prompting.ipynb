{
 "cells": [
  {
   "cell_type": "markdown",
   "id": "b05d3f6b",
   "metadata": {},
   "source": [
    "# Prompting: Zero/Few-Shot, e Cadeia de Pensamento\n",
    "\n",
    "Este é um caderno de exemplo."
   ]
  },
  {
   "cell_type": "code",
   "execution_count": null,
   "id": "774e99e9",
   "metadata": {},
   "outputs": [],
   "source": [
    "# Seu código aqui"
   ]
  }
 ],
 "metadata": {},
 "nbformat": 4,
 "nbformat_minor": 5
}
