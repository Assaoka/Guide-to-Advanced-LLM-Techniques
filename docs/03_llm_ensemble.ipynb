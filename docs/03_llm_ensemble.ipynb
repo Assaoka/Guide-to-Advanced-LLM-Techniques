{
 "cells": [
  {
   "cell_type": "markdown",
   "id": "4a80a8c0",
   "metadata": {},
   "source": [
    "# Ensemble de LLMs\n",
    "\n",
    "Este é um caderno de exemplo."
   ]
  },
  {
   "cell_type": "code",
   "execution_count": null,
   "id": "2a7c465d",
   "metadata": {},
   "outputs": [],
   "source": [
    "# Seu código aqui"
   ]
  }
 ],
 "metadata": {},
 "nbformat": 4,
 "nbformat_minor": 5
}
