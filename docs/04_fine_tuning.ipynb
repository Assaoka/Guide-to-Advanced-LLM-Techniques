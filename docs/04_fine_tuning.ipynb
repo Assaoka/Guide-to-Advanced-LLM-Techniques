{
 "cells": [
  {
   "cell_type": "markdown",
   "id": "02408740",
   "metadata": {},
   "source": [
    "# Fine Tunning\n",
    "\n",
    "Este é um caderno de exemplo."
   ]
  },
  {
   "cell_type": "code",
   "execution_count": null,
   "id": "879ada28",
   "metadata": {},
   "outputs": [],
   "source": [
    "# Seu código aqui"
   ]
  }
 ],
 "metadata": {},
 "nbformat": 4,
 "nbformat_minor": 5
}
