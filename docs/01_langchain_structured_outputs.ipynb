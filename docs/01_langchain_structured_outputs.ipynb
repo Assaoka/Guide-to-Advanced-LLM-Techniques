{
 "cells": [
  {
   "cell_type": "markdown",
   "id": "58a52427",
   "metadata": {},
   "source": [
    "# Langchain e Saídas Estruturadas\n",
    "\n",
    "Este é um caderno de exemplo."
   ]
  },
  {
   "cell_type": "code",
   "execution_count": null,
   "id": "529c7f08",
   "metadata": {},
   "outputs": [],
   "source": [
    "# Seu código aqui"
   ]
  }
 ],
 "metadata": {},
 "nbformat": 4,
 "nbformat_minor": 5
}
